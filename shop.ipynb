import tkinter as tk
from tkinter import *
from tkinter import ttk
from tkinter import font
import tkinter.messagebox as messagebox
import mysql.connector as mysql
from tkcalendar import DateEntry
import tkinter.font as tkFont

#Connecting to the database and creating table
db=mysql.connect(user="root",password="",host="localhost") 
 
my_cursor=db.cursor() #getting the cursor object
my_cursor.execute("CREATE DATABASE IF NOT EXISTS Shop") #creating the database named library

db=mysql.connect(user="root",password="",host="localhost",database='Shop') 
my_cursor=db.cursor()
#query to create a table products
query="CREATE TABLE IF NOT EXISTS products (date VARCHAR(10),prodName VARCHAR(20), prodPrice VARCHAR(50))" 
my_cursor.execute(query) #executing the query

#query to create a table useraccount
query="CREATE TABLE IF NOT EXISTS UserDetail (id INT PRIMARY KEY AUTO_INCREMENT,name VARCHAR(30),email VARCHAR(30),phone INT(12),username VARCHAR(10),password VARCHAR(20))" 
my_cursor.execute(query) #executing the query


db=mysql.connect(user="root",password="",host="localhost",database='Shop') 
my_cursor=db.cursor()
#query to create a table sale
query="CREATE TABLE IF NOT EXISTS sale (custName VARCHAR(20), date VARCHAR(10), prodName VARCHAR(30),qty INTEGER, price INTEGER )" 
my_cursor.execute(query) #executing the query

def homepage():
    wn = tk.Tk() 
    wn.title(" Shop Management System")
    wn.configure(bg='grey')
    wn.minsize(width=500,height=500)
    wn.geometry("700x600")
    
    headingFrame1 = Frame(wn,bg="snow3",bd=5)
    headingFrame1.place(relx=0.2,rely=0.1,relwidth=0.6,relheight=0.16)
    headingLabel = Label(headingFrame1, text=" Shop Management System", fg='grey19', font=('Courier',15,'bold'))
    headingLabel.place(relx=0,rely=0, relwidth=1, relheight=1)
   
        

    def addProd():
        root = tk.Tk()
        root.title("Add Product")
        root.geometry("500x400")
        root.configure(bg='#f0f0f0')
        
        def addbtn():
            # id = id_entry.get()
            
            price=entry_price.get()
            stock=entry_stock.get()
            date=entry_date.get()
            company=entry_company_name.get()
            product_name=entry_product_name.get()
            
          
            
            con = mysql.connect(host="localhost", user="root", password="", database="shop")
            cursor = con.cursor()
            cursor.execute("insert into product(`product_name`,`price`,`company_name`,`stock`,`date`) values( '"+ product_name +"', '" +price +"','"+company+"','"+stock+"','"+date+"')")
            cursor.execute("commit")
                # insert_query="INSERT INTO `Student`(`id`,`name`,`phone`) VALUES(%s, %s,%s)"
                # vals=(id,name,phone)
                # c.execute(insert_query,vals)
                # connection.commit()
            messagebox.showinfo("Status", "product added successfully")
            con.close();
            YourProduct()

        
        frame = tk.Frame(root, bg='#ffffff', bd=5)
        frame.place(relx=0.5, rely=0.5, anchor='center')
        
        
        label_title = tk.Label(frame, text="Add Product", font=("Helvetica", 24), bg='#ffffff')
        label_title.grid(row=0, column=0, columnspan=2, pady=20)
        
        
       

        label_product_name = tk.Label(frame, text="Product name", font=("Helvetica", 14), bg='#ffffff')
        label_product_name.grid(row=1, column=0, padx=10, pady=10, sticky='e')
        entry_product_name = tk.Entry(frame, font=("Helvetica", 14))
        entry_product_name.grid(row=1, column=1, padx=10, pady=10)
        
        
        label_price = tk.Label(frame, text="Price", font=("Helvetica", 14), bg='#ffffff')
        label_price.grid(row=2, column=0, padx=10, pady=10, sticky='e')
        entry_price = tk.Entry(frame, font=("Helvetica", 14))
        entry_price.grid(row=2, column=1, padx=10, pady=10)
        
        
        label_company_name = tk.Label(frame, text="Company Name", font=("Helvetica", 14), bg='#ffffff')
        label_company_name.grid(row=3, column=0, padx=10, pady=10, sticky='e')
        entry_company_name = tk.Entry(frame, font=("Helvetica", 14))
        entry_company_name.grid(row=3, column=1, padx=10, pady=10)
        
        
        label_stock = tk.Label(frame, text="Stock", font=("Helvetica", 14), bg='#ffffff')
        label_stock.grid(row=4, column=0, padx=10, pady=10, sticky='e')
        entry_stock = tk.Entry(frame, font=("Helvetica", 14))
        entry_stock.grid(row=4, column=1, padx=10, pady=10)

        # label_product_id = tk.Label(frame, text="Product ID", font=("Helvetica", 14), bg='#ffffff')
        # label_product_id.grid(row=5, column=0, padx=10, pady=10, sticky='e')
        # entry_product_id = tk.Entry(frame, font=("Helvetica", 14))
        # entry_product_id.grid(row=5, column=1, padx=10, pady=10)
        
        
        label_date = tk.Label(frame, text="Date", font=("Helvetica", 14), bg='#ffffff')
        label_date.grid(row=6, column=0, padx=10, pady=10, sticky='e')
        entry_date = DateEntry(frame, font=("Helvetica", 14), date_pattern='y-mm-dd')
        entry_date.grid(row=6, column=1, padx=10, pady=10)
        
                
        button_add = tk.Button(frame, text="Add Product", font=("Helvetica", 14),command=addbtn, bg='#4CAF50', fg='white')
        button_add.grid(row=7, column=0, columnspan=2, pady=20)
        
        root.mainloop()
       

  
   
        
        
            
        
    def buyProduct():
        pass
        #Button to add a new product
    def viewProduct():
        def connect_to_db():
            return mysql.connect(
                host='localhost',
                user='root',
                password='',
                database='shop'
            )

        # Function to load data from database
        def load_data():
            conn = connect_to_db()
            cursor = conn.cursor()
            cursor.execute("SELECT * FROM product")
            rows = cursor.fetchall()
            for row in rows:
                tree.insert('', tk.END, values=row)
            conn.close()
        
        # Function to update selected item
        def update_item():
            
            selected_item = tree.selection()[0]
                                                                                                              
            values = tree.item(selected_item, 'values')
            id_to_update = values[0]
            new_value1 = entry1.get()
            new_value2 = entry2.get()
            new_value3 = entry3.get()
                
            conn = connect_to_db()
            cursor = conn.cursor()
            cursor.execute(f"UPDATE product SET product_name = %s, price= %s, date = %s WHERE product_id = %s", 
                               (new_value1, new_value2, new_value3, id_to_update))
            conn.commit()
            conn.close()
                
                # Update the treeview item
            tree.item(selected_item, values=(id_to_update, new_value1, new_value2, new_value3))
            messagebox.showinfo("Updated", "The selected item has been updated successfully.")
        
                
        def delete_item():
            selected_item = tree.selection()[0]
            print(type(selected_item))
            values = tree.item(selected_item, 'values')
            id_to_delete = values[0]
            
            conn = connect_to_db()
            cursor = conn.cursor()
            cursor.execute(f"DELETE FROM product WHERE product_id = {id_to_delete}")
            conn.commit()
            conn.close()
            
            tree.delete(selected_item)
            messagebox.showinfo("Deleted", "The selected item has been deleted successfully.")
        
        
        # Function to load selected item into entry widgets
        def load_selected_item():
            selected_item = tree.selection()[0]
            values = tree.item(selected_item, 'values')
            
            entry1.delete(0, tk.END)
            entry1.insert(0, values[1])
            entry2.delete(0, tk.END)
            entry2.insert(0, values[2])
            entry3.delete(0, tk.END)
            entry3.insert(0, values[3])
        
        
        root = tk.Tk()
        root.title("My product")
        
        # Treeview widget
        columns = ("ID", "product_name", "price", "date","company_name","stock")
        tree = ttk.Treeview(root, columns=columns, show='headings')
        for col in columns:
            tree.heading(col, text=col)
            tree.column(col, anchor=tk.CENTER)
        
        tree.pack(fill=tk.BOTH, expand=True)

        # Load data into Treeview
        load_data()
        
        # Entry widgets for updating item details
        # frame = tk.Frame(root)
        # frame.pack(pady=20)
        
        frame = tk.Frame(root, bg='#ffffff', bd=5)
        frame.place(relx=0.5, rely=0.5, anchor='center')
        
        label_Productname = tk.Label(frame, text="Product Name", font=("Helvetica", 14), bg='#ffffff')
        label_Productname.grid(row=1, column=0, padx=10, pady=10, sticky='e')
        entry1 = tk.Entry(frame, font=("Helvetica", 14))
        entry1.grid(row=1, column=1, padx=10, pady=10)
        label_price = tk.Label(frame, text="Price", font=("Helvetica", 14), bg='#ffffff')
        label_price.grid(row=2, column=0, padx=10, pady=10, sticky='e')
        entry2 = tk.Entry(frame, font=("Helvetica", 14))
        entry2.grid(row=2, column=1, padx=10, pady=10)
        label_name = tk.Label(frame, text="Date", font=("Helvetica", 14), bg='#ffffff')
        label_name.grid(row=3, column=0, padx=10, pady=10, sticky='e')
        entry3 = tk.Entry(frame, font=("Helvetica", 14))
        entry3.grid(row=3, column=1, padx=10, pady=10)
        
        # tk.Label(frame, text="Column1").grid(row=0, column=0)
        # entry1 = tk.Entry(frame)
        # entry1.grid(row=0, column=1)
        
        # tk.Label(frame, text="Column2").grid(row=1, column=0)
        # entry2 = tk.Entry(frame)
        # entry2.grid(row=1, column=1)
        
        # tk.Label(frame, text="Column3").grid(row=2, column=0)
        # entry3 = tk.Entry(frame)
        # entry3.grid(row=2, column=1)
        
        # Buttons for loading and updating item details
        # load_button = tk.Button(root, text="Load Selected Item", command=load_selected_item)
        # load_button.pack(pady=5)
        
        # update_button = tk.Button(root, text="Update Selected Item", command=update_item)
        # update_button.pack(pady=5)
        # delete_button = tk.Button(root, text="Delete Selected Item", command=delete_item)
        # delete_button.pack(pady=10)

        # frame = tk.Frame(root, bg='#ffffff', bd=5)
        # frame.place(relx=0.5, rely=0.5, anchor='center')
    

        load_button= tk.Button(frame,text="Load Selected Item",bg='red', fg='white',font=("Helvetica", 14), command=load_selected_item)
        load_button.grid(row=7,column=0)
        update_button= tk.Button(frame,text="Update Selected Item",bg='green', fg='white',font=("Helvetica", 14), command=update_item)
        update_button.grid(row=7,column=1)
        delete_button= tk.Button(frame,text="Delete Selected Item",bg='blue', fg='white',font=("Helvetica", 14), command=delete_item)
        delete_button.grid(row=9,column=0)
        
        root.mainloop()

   


    btn1 = Button(wn,text="Add a Product",bg='LightBlue1', fg='black', width=20,height=2, command=addProd)
    btn1['font'] = font.Font( size=12)
    btn1.place(x=270,y=175)
    
   
    
    #Button to add a new sale and generate bill
    btn4 = Button(wn,text="buy product",bg='lavender blush2', fg='black', width=20,height=2,command=buyProduct)
    btn4['font'] = font.Font( size=12)
    btn4.place(x=270,y=255)
    btn4 = Button(wn,text="view product",bg='lavender blush2', fg='black', width=20,height=2,command=viewProduct)
    btn4['font'] = font.Font( size=12)
    btn4.place(x=270,y=315)

   

    
    
    

    

def fetch_user_details(username, password):
    connection = mysql.connect(user="root",password="",host="localhost",database='Shop')
    if connection is not None:
        cursor = connection.cursor()
        query = "SELECT * FROM UserDetail WHERE username = %s AND password = %s"
        cursor.execute(query, (username, password))
        userAccount = cursor.fetchone()
        connection.close()
        return userAccount
    return None

def login():
    # username = entry_username.get()
    # password = entry_password.get()
    # if username == "user" and password == "pass":
    #     messagebox.showinfo("Login Info", "Welcome!")
    # else:
    #     messagebox.showerror("Login Error", "Invalid username or password")
    username = entry_username.get()
    password = entry_password.get()
    user = fetch_user_details(username, password)
    if user:
        messagebox.showinfo("Login Info", "Welcome! to My shop")
        root.destroy()
        homepage()
    else:
        messagebox.showerror("Login Error", "Invalid username or password")

# def createAccount():
#     username= entry_username.get()
#     password = entry_password.get()
    
#     user = fetch_user_details(username, password)
#     if(username == "" or password == ""):
#         messagebox.showinfo("ALERT", "Please enter all fields")

    
#     elif user:
#         messagebox.showinfo("Login Info", "username ,password already exist please create new Account")
#     else:
#         con = mysql.connect(host="localhost", user="root", password="", database="shop")
#         cursor = con.cursor()
        
#         cursor.execute("insert into userAccount values('" +username +"', '"+ password +"')")
#         cursor.execute("commit")
#         # insert_query="INSERT INTO `Student`(`id`,`name`,`phone`) VALUES(%s, %s,%s)"
#         # vals=(id,name,phone)
#         # c.execute(insert_query,vals)
#         # connection.commit()
#         messagebox.showinfo("Status", "Successfull Account Created\n pease login to continue")
#         con.close();
def Register():
    root = tk.Tk()
    root.title("Login")
    root.geometry("600x500")
    root.configure(bg='#f0f0f0')

    def regbtn():
            # id = id_entry.get()
        name=entry_name.get()
        email=entry_email.get()
        phone=entry_phone.get()
        username=entry_username.get()
        password=entry_pwd.get()
        
        
        con = mysql.connect(host="localhost", user="root", password="", database="shop")
        cursor = con.cursor()
        cursor.execute("insert into UserDetail(`name`,`email`,`phone`,`username`,`password`)values('" + name +"', '"+ email +"', '" +phone +"','"+username+"','"+password+"')")
        cursor.execute("commit")
        messagebox.showinfo("Status", "You are Registered successfully,Login to continue")
        
        con.close();
        root.destroy()

    # Create a frame for the login form
    frame = tk.Frame(root, bg='#ffffff', bd=5)
    frame.place(relx=0.5, rely=0.5, anchor='center')
    
    # Title
    headingFrame1 = Frame(root,bg="snow3",bd=5)
    headingFrame1.place(relx=0.2,relwidth=0.6,relheight=0.16)
    headingLabel = Label(headingFrame1, text="Welcome to Shop Management System", fg='grey19', font=('Courier',15,'bold'))
    headingLabel.place(relx=0,rely=0, relwidth=1, relheight=1)
    
    label_title = tk.Label(frame, text="Register at My Shop", font=("Helvetica", 24), bg='#ffffff')
    label_title.grid(row=0, column=0, columnspan=2)
    

    label_name = tk.Label(frame, text="Name", font=("Helvetica", 14), bg='#ffffff')
    label_name.grid(row=1, column=0, padx=10, pady=10, sticky='e')
    entry_name = tk.Entry(frame, font=("Helvetica", 14))
    entry_name.grid(row=1, column=1, padx=10, pady=10)

    label_email = tk.Label(frame, text="Email", font=("Helvetica", 14), bg='#ffffff')
    label_email.grid(row=2, column=0, padx=10, pady=10, sticky='e')
    entry_email = tk.Entry(frame, font=("Helvetica", 14))
    entry_email.grid(row=2, column=1, padx=10, pady=10)

    label_phone = tk.Label(frame, text="Phone", font=("Helvetica", 14), bg='#ffffff')
    label_phone.grid(row=3, column=0, padx=10, pady=10, sticky='e')
    entry_phone = tk.Entry(frame, font=("Helvetica", 14))
    entry_phone.grid(row=3, column=1, padx=10, pady=10)

    label_username = tk.Label(frame, text="Username", font=("Helvetica", 14), bg='#ffffff')
    label_username.grid(row=4, column=0, padx=10, pady=10, sticky='e')
    entry_username = tk.Entry(frame, font=("Helvetica", 14))
    entry_username.grid(row=4, column=1, padx=10, pady=10)

    label_pwd = tk.Label(frame, text="Password", font=("Helvetica", 14), bg='#ffffff')
    label_pwd.grid(row=5, column=0, padx=10, pady=10, sticky='e')
    entry_pwd = tk.Entry(frame, font=("Helvetica", 14))
    entry_pwd.grid(row=5, column=1, padx=10, pady=10)

    button_reg = tk.Button(frame, text="Register", font=("Helvetica", 14),command=regbtn, bg='#4CAF50', fg='white')
    button_reg.grid(row=6, column=1, columnspan=2, pady=20)
    Quit= tk.Button(frame,text="Quit",bg='red', fg='white',font=("Helvetica", 14), command=root.destroy)
    Quit.grid(row=6,column=0)
        
    # messagebox.showinfo("Status", "Successfull Account Created login to continue")
    # root.destroy()
    root.mainloop()
    # root.destroy()
            

# Create the login window
root = tk.Tk()
root.title("Login")
root.geometry("600x500")
root.configure(bg='#f0f0f0')


# Create a frame for the login form
frame = tk.Frame(root, bg='#ffffff', bd=5)
frame.place(relx=0.5, rely=0.5, anchor='center')

# Title
headingFrame1 = Frame(root,bg="snow3",bd=5)
headingFrame1.place(relx=0.2,rely=0.1,relwidth=0.6,relheight=0.16)
headingLabel = Label(headingFrame1, text="Welcome to Shop Management System", fg='grey19', font=('Courier',15,'bold'))
headingLabel.place(relx=0,rely=0, relwidth=1, relheight=1)

label_title = tk.Label(frame, text="Login", font=("Helvetica", 24), bg='#ffffff')
label_title.grid(row=0, column=0, columnspan=2, pady=10)

# Username
label_username = tk.Label(frame, text="Username", font=("Helvetica", 14), bg='#ffffff')
label_username.grid(row=1, column=0, padx=10, pady=10, sticky='e')
entry_username = tk.Entry(frame, font=("Helvetica", 14))
entry_username.grid(row=1, column=1, padx=10, pady=10)

# Password
label_password = tk.Label(frame, text="Password", font=("Helvetica", 14), bg='#ffffff')
label_password.grid(row=2, column=0, padx=10, pady=10, sticky='e')
entry_password = tk.Entry(frame, font=("Helvetica", 14), show='*')
entry_password.grid(row=2, column=1, padx=10, pady=10)

# Login button
button_login = tk.Button(frame, text="Login", font=("Helvetica", 14), command=login, bg='#4CAF50', fg='white')
button_login.grid(row=3, column=0)

label_notrgst = tk.Label(frame, text="Not Registered ?", font=("Helvetica", 13), bg='#ffffff')
label_notrgst.grid(row=4, column=1, ipadx=50,pady=10,sticky='e')

button_crtaccount = tk.Button(frame, text="Register Here", font=("Helvetica", 14),command=Register, bg='#4CAF50', fg='white')
button_crtaccount.grid(row=3, column=1, columnspan=2, pady=20)
# Run the application
root.mainloop()

